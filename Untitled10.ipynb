{
 "cells": [
  {
   "cell_type": "markdown",
   "id": "e4c6f404-2394-4234-83ee-71d6367407db",
   "metadata": {},
   "source": [
    "1. How do you create a simple perceptron for basic binary classification?\n",
    "\n",
    "A perceptron consists of an input layer and a single neuron with a step activation function. Using Python, it can be implemented as:"
   ]
  },
  {
   "cell_type": "code",
   "execution_count": 1,
   "id": "5400ed2a-ca94-449f-94f0-bc10e50aab53",
   "metadata": {},
   "outputs": [
    {
     "name": "stdout",
     "output_type": "stream",
     "text": [
      "Trained weights: [0.22146299 0.15285874]\n",
      "Trained bias: [-0.35859217]\n"
     ]
    }
   ],
   "source": [
    "import numpy as np\n",
    "\n",
    "# Inputs and labels\n",
    "X = np.array([[0, 0], [0, 1], [1, 0], [1, 1]])\n",
    "y = np.array([0, 0, 0, 1])  # AND gate example\n",
    "\n",
    "# Initialize weights and bias\n",
    "weights = np.random.rand(2)\n",
    "bias = np.random.rand(1)\n",
    "learning_rate = 0.1\n",
    "\n",
    "# Activation function (Step function)\n",
    "def step_function(x):\n",
    "    return 1 if x >= 0 else 0\n",
    "\n",
    "# Training the perceptron\n",
    "for epoch in range(10):  # Train for 10 epochs\n",
    "    for i in range(len(X)):\n",
    "        z = np.dot(X[i], weights) + bias\n",
    "        y_pred = step_function(z)\n",
    "        error = y[i] - y_pred\n",
    "        weights += learning_rate * error * X[i]\n",
    "        bias += learning_rate * error\n",
    "\n",
    "print(\"Trained weights:\", weights)\n",
    "print(\"Trained bias:\", bias)"
   ]
  },
  {
   "cell_type": "markdown",
   "id": "e19585b4-f276-4cac-8508-3b0bc97febee",
   "metadata": {},
   "source": [
    "2. How can you build a neural network with one hidden layer using Keras?"
   ]
  },
  {
   "cell_type": "code",
   "execution_count": 2,
   "id": "1d37f2a7-a952-4b5c-b236-6e83af10d692",
   "metadata": {},
   "outputs": [
    {
     "name": "stderr",
     "output_type": "stream",
     "text": [
      "C:\\Users\\Arpit Srivastava\\AppData\\Local\\Programs\\Python\\Python310\\lib\\site-packages\\keras\\src\\layers\\core\\dense.py:87: UserWarning: Do not pass an `input_shape`/`input_dim` argument to a layer. When using Sequential models, prefer using an `Input(shape)` object as the first layer in the model instead.\n",
      "  super().__init__(activity_regularizer=activity_regularizer, **kwargs)\n"
     ]
    },
    {
     "data": {
      "text/html": [
       "<pre style=\"white-space:pre;overflow-x:auto;line-height:normal;font-family:Menlo,'DejaVu Sans Mono',consolas,'Courier New',monospace\"><span style=\"font-weight: bold\">Model: \"sequential\"</span>\n",
       "</pre>\n"
      ],
      "text/plain": [
       "\u001b[1mModel: \"sequential\"\u001b[0m\n"
      ]
     },
     "metadata": {},
     "output_type": "display_data"
    },
    {
     "data": {
      "text/html": [
       "<pre style=\"white-space:pre;overflow-x:auto;line-height:normal;font-family:Menlo,'DejaVu Sans Mono',consolas,'Courier New',monospace\">┏━━━━━━━━━━━━━━━━━━━━━━━━━━━━━━━━━━┳━━━━━━━━━━━━━━━━━━━━━━━━━┳━━━━━━━━━━━━━━━┓\n",
       "┃<span style=\"font-weight: bold\"> Layer (type)                     </span>┃<span style=\"font-weight: bold\"> Output Shape            </span>┃<span style=\"font-weight: bold\">       Param # </span>┃\n",
       "┡━━━━━━━━━━━━━━━━━━━━━━━━━━━━━━━━━━╇━━━━━━━━━━━━━━━━━━━━━━━━━╇━━━━━━━━━━━━━━━┩\n",
       "│ dense (<span style=\"color: #0087ff; text-decoration-color: #0087ff\">Dense</span>)                    │ (<span style=\"color: #00d7ff; text-decoration-color: #00d7ff\">None</span>, <span style=\"color: #00af00; text-decoration-color: #00af00\">10</span>)              │            <span style=\"color: #00af00; text-decoration-color: #00af00\">50</span> │\n",
       "├──────────────────────────────────┼─────────────────────────┼───────────────┤\n",
       "│ dense_1 (<span style=\"color: #0087ff; text-decoration-color: #0087ff\">Dense</span>)                  │ (<span style=\"color: #00d7ff; text-decoration-color: #00d7ff\">None</span>, <span style=\"color: #00af00; text-decoration-color: #00af00\">1</span>)               │            <span style=\"color: #00af00; text-decoration-color: #00af00\">11</span> │\n",
       "└──────────────────────────────────┴─────────────────────────┴───────────────┘\n",
       "</pre>\n"
      ],
      "text/plain": [
       "┏━━━━━━━━━━━━━━━━━━━━━━━━━━━━━━━━━━┳━━━━━━━━━━━━━━━━━━━━━━━━━┳━━━━━━━━━━━━━━━┓\n",
       "┃\u001b[1m \u001b[0m\u001b[1mLayer (type)                    \u001b[0m\u001b[1m \u001b[0m┃\u001b[1m \u001b[0m\u001b[1mOutput Shape           \u001b[0m\u001b[1m \u001b[0m┃\u001b[1m \u001b[0m\u001b[1m      Param #\u001b[0m\u001b[1m \u001b[0m┃\n",
       "┡━━━━━━━━━━━━━━━━━━━━━━━━━━━━━━━━━━╇━━━━━━━━━━━━━━━━━━━━━━━━━╇━━━━━━━━━━━━━━━┩\n",
       "│ dense (\u001b[38;5;33mDense\u001b[0m)                    │ (\u001b[38;5;45mNone\u001b[0m, \u001b[38;5;34m10\u001b[0m)              │            \u001b[38;5;34m50\u001b[0m │\n",
       "├──────────────────────────────────┼─────────────────────────┼───────────────┤\n",
       "│ dense_1 (\u001b[38;5;33mDense\u001b[0m)                  │ (\u001b[38;5;45mNone\u001b[0m, \u001b[38;5;34m1\u001b[0m)               │            \u001b[38;5;34m11\u001b[0m │\n",
       "└──────────────────────────────────┴─────────────────────────┴───────────────┘\n"
      ]
     },
     "metadata": {},
     "output_type": "display_data"
    },
    {
     "data": {
      "text/html": [
       "<pre style=\"white-space:pre;overflow-x:auto;line-height:normal;font-family:Menlo,'DejaVu Sans Mono',consolas,'Courier New',monospace\"><span style=\"font-weight: bold\"> Total params: </span><span style=\"color: #00af00; text-decoration-color: #00af00\">61</span> (244.00 B)\n",
       "</pre>\n"
      ],
      "text/plain": [
       "\u001b[1m Total params: \u001b[0m\u001b[38;5;34m61\u001b[0m (244.00 B)\n"
      ]
     },
     "metadata": {},
     "output_type": "display_data"
    },
    {
     "data": {
      "text/html": [
       "<pre style=\"white-space:pre;overflow-x:auto;line-height:normal;font-family:Menlo,'DejaVu Sans Mono',consolas,'Courier New',monospace\"><span style=\"font-weight: bold\"> Trainable params: </span><span style=\"color: #00af00; text-decoration-color: #00af00\">61</span> (244.00 B)\n",
       "</pre>\n"
      ],
      "text/plain": [
       "\u001b[1m Trainable params: \u001b[0m\u001b[38;5;34m61\u001b[0m (244.00 B)\n"
      ]
     },
     "metadata": {},
     "output_type": "display_data"
    },
    {
     "data": {
      "text/html": [
       "<pre style=\"white-space:pre;overflow-x:auto;line-height:normal;font-family:Menlo,'DejaVu Sans Mono',consolas,'Courier New',monospace\"><span style=\"font-weight: bold\"> Non-trainable params: </span><span style=\"color: #00af00; text-decoration-color: #00af00\">0</span> (0.00 B)\n",
       "</pre>\n"
      ],
      "text/plain": [
       "\u001b[1m Non-trainable params: \u001b[0m\u001b[38;5;34m0\u001b[0m (0.00 B)\n"
      ]
     },
     "metadata": {},
     "output_type": "display_data"
    }
   ],
   "source": [
    "from keras.models import Sequential\n",
    "from keras.layers import Dense\n",
    "\n",
    "# Create the model\n",
    "model = Sequential([\n",
    "    Dense(10, input_dim=4, activation='relu'),  # Hidden layer with 10 neurons\n",
    "    Dense(1, activation='sigmoid')  # Output layer for binary classification\n",
    "])\n",
    "\n",
    "# Compile the model\n",
    "model.compile(optimizer='adam', loss='binary_crossentropy', metrics=['accuracy'])\n",
    "\n",
    "# Summary of the model\n",
    "model.summary()\n"
   ]
  },
  {
   "cell_type": "markdown",
   "id": "1b0c4f11-3f53-4e75-8520-ad5e5e21593d",
   "metadata": {},
   "source": [
    "3. How do you initialize weights using the Xavier (Glorot) initialization method in Keras?\n",
    "   \n",
    "Keras uses Xavier initialization by default for dense layers, but you can specify it explicitly:"
   ]
  },
  {
   "cell_type": "code",
   "execution_count": 3,
   "id": "de818ab1-5d8d-4cdb-bef3-1800d3a757f0",
   "metadata": {},
   "outputs": [],
   "source": [
    "from keras.initializers import GlorotUniform\n",
    "from keras.layers import Dense\n",
    "\n",
    "model.add(Dense(10, activation='relu', kernel_initializer=GlorotUniform()))\n"
   ]
  },
  {
   "cell_type": "markdown",
   "id": "40dbf517-5752-4295-a449-b64a2263a92a",
   "metadata": {},
   "source": [
    "4. How can you apply different activation functions in a neural network in Keras?\n",
    "\n",
    "Specify the activation function in the Dense layer:"
   ]
  },
  {
   "cell_type": "code",
   "execution_count": 4,
   "id": "949f80a2-51d0-41a4-8ec6-0d7a6087d188",
   "metadata": {},
   "outputs": [
    {
     "data": {
      "text/plain": [
       "<Dense name=dense_5, built=False>"
      ]
     },
     "execution_count": 4,
     "metadata": {},
     "output_type": "execute_result"
    }
   ],
   "source": [
    "Dense(10, activation='relu')  # ReLU activation\n",
    "Dense(10, activation='tanh')  # Tanh activation\n",
    "Dense(10, activation='softmax')  # Softmax activation\n"
   ]
  },
  {
   "cell_type": "markdown",
   "id": "0cf05b63-c1bb-488c-80f4-2863910a9ff2",
   "metadata": {},
   "source": [
    "5. How do you add dropout to a neural network model to prevent overfitting?\n",
    "\n",
    "Use the Dropout layer:"
   ]
  },
  {
   "cell_type": "code",
   "execution_count": 5,
   "id": "29ce879a-6441-47b5-90a6-0bf8e7919481",
   "metadata": {},
   "outputs": [],
   "source": [
    "from keras.layers import Dropout\n",
    "\n",
    "model.add(Dense(10, activation='relu'))\n",
    "model.add(Dropout(0.5))  # Drops 50% of neurons during training\n"
   ]
  },
  {
   "cell_type": "markdown",
   "id": "b8c15453-4945-4083-84a6-8a5d1a98054d",
   "metadata": {},
   "source": [
    "6. How do you manually implement forward propagation in a simple neural network?"
   ]
  },
  {
   "cell_type": "code",
   "execution_count": 6,
   "id": "dd189303-a3e0-45a5-90b3-2bdaca851f43",
   "metadata": {},
   "outputs": [
    {
     "name": "stdout",
     "output_type": "stream",
     "text": [
      "Output: 0.9\n"
     ]
    }
   ],
   "source": [
    "import numpy as np\n",
    "\n",
    "# Inputs and weights\n",
    "X = np.array([0.5, 0.2, 0.8])\n",
    "weights = np.array([0.4, 0.6, 0.1])\n",
    "bias = 0.5\n",
    "\n",
    "# Activation function\n",
    "def relu(x):\n",
    "    return np.maximum(0, x)\n",
    "\n",
    "# Forward propagation\n",
    "z = np.dot(X, weights) + bias\n",
    "output = relu(z)\n",
    "print(\"Output:\", output)\n"
   ]
  },
  {
   "cell_type": "markdown",
   "id": "91a4e4ee-a65c-4602-b35c-727e82597f22",
   "metadata": {},
   "source": [
    "7. How do you add batch normalization to a neural network model in Keras?\n",
    "\n",
    "Use the BatchNormalization layer:"
   ]
  },
  {
   "cell_type": "code",
   "execution_count": 7,
   "id": "b0b2aef3-bfdb-4801-9653-ad052463106c",
   "metadata": {},
   "outputs": [],
   "source": [
    "from keras.layers import BatchNormalization\n",
    "\n",
    "model.add(Dense(10, activation='relu'))\n",
    "model.add(BatchNormalization())\n"
   ]
  },
  {
   "cell_type": "markdown",
   "id": "6a9a830d-9645-43c9-a842-35dd625be5c9",
   "metadata": {},
   "source": [
    "8. How can you visualize the training process with accuracy and loss curves?\n",
    "\n",
    "Using matplotlib:"
   ]
  },
  {
   "cell_type": "code",
   "execution_count": 12,
   "id": "1a043e66-a0e6-46f1-a318-14c8d8c3f95f",
   "metadata": {},
   "outputs": [
    {
     "name": "stderr",
     "output_type": "stream",
     "text": [
      "C:\\Users\\Arpit Srivastava\\AppData\\Local\\Programs\\Python\\Python310\\lib\\site-packages\\keras\\src\\layers\\core\\dense.py:87: UserWarning: Do not pass an `input_shape`/`input_dim` argument to a layer. When using Sequential models, prefer using an `Input(shape)` object as the first layer in the model instead.\n",
      "  super().__init__(activity_regularizer=activity_regularizer, **kwargs)\n"
     ]
    },
    {
     "name": "stdout",
     "output_type": "stream",
     "text": [
      "Epoch 1/10\n",
      "\u001b[1m13/13\u001b[0m \u001b[32m━━━━━━━━━━━━━━━━━━━━\u001b[0m\u001b[37m\u001b[0m \u001b[1m2s\u001b[0m 27ms/step - accuracy: 0.5160 - loss: 0.7057 - val_accuracy: 0.5000 - val_loss: 0.7499\n",
      "Epoch 2/10\n",
      "\u001b[1m13/13\u001b[0m \u001b[32m━━━━━━━━━━━━━━━━━━━━\u001b[0m\u001b[37m\u001b[0m \u001b[1m0s\u001b[0m 7ms/step - accuracy: 0.5040 - loss: 0.7091 - val_accuracy: 0.5000 - val_loss: 0.7460\n",
      "Epoch 3/10\n",
      "\u001b[1m13/13\u001b[0m \u001b[32m━━━━━━━━━━━━━━━━━━━━\u001b[0m\u001b[37m\u001b[0m \u001b[1m0s\u001b[0m 6ms/step - accuracy: 0.5281 - loss: 0.6930 - val_accuracy: 0.5000 - val_loss: 0.7419\n",
      "Epoch 4/10\n",
      "\u001b[1m13/13\u001b[0m \u001b[32m━━━━━━━━━━━━━━━━━━━━\u001b[0m\u001b[37m\u001b[0m \u001b[1m0s\u001b[0m 10ms/step - accuracy: 0.5103 - loss: 0.6941 - val_accuracy: 0.5000 - val_loss: 0.7384\n",
      "Epoch 5/10\n",
      "\u001b[1m13/13\u001b[0m \u001b[32m━━━━━━━━━━━━━━━━━━━━\u001b[0m\u001b[37m\u001b[0m \u001b[1m0s\u001b[0m 7ms/step - accuracy: 0.4804 - loss: 0.7085 - val_accuracy: 0.5000 - val_loss: 0.7354\n",
      "Epoch 6/10\n",
      "\u001b[1m13/13\u001b[0m \u001b[32m━━━━━━━━━━━━━━━━━━━━\u001b[0m\u001b[37m\u001b[0m \u001b[1m0s\u001b[0m 6ms/step - accuracy: 0.4720 - loss: 0.7034 - val_accuracy: 0.5000 - val_loss: 0.7331\n",
      "Epoch 7/10\n",
      "\u001b[1m13/13\u001b[0m \u001b[32m━━━━━━━━━━━━━━━━━━━━\u001b[0m\u001b[37m\u001b[0m \u001b[1m0s\u001b[0m 6ms/step - accuracy: 0.4997 - loss: 0.6960 - val_accuracy: 0.4500 - val_loss: 0.7309\n",
      "Epoch 8/10\n",
      "\u001b[1m13/13\u001b[0m \u001b[32m━━━━━━━━━━━━━━━━━━━━\u001b[0m\u001b[37m\u001b[0m \u001b[1m0s\u001b[0m 7ms/step - accuracy: 0.5187 - loss: 0.6851 - val_accuracy: 0.4500 - val_loss: 0.7289\n",
      "Epoch 9/10\n",
      "\u001b[1m13/13\u001b[0m \u001b[32m━━━━━━━━━━━━━━━━━━━━\u001b[0m\u001b[37m\u001b[0m \u001b[1m0s\u001b[0m 6ms/step - accuracy: 0.5746 - loss: 0.6883 - val_accuracy: 0.4500 - val_loss: 0.7273\n",
      "Epoch 10/10\n",
      "\u001b[1m13/13\u001b[0m \u001b[32m━━━━━━━━━━━━━━━━━━━━\u001b[0m\u001b[37m\u001b[0m \u001b[1m0s\u001b[0m 6ms/step - accuracy: 0.5791 - loss: 0.6818 - val_accuracy: 0.4500 - val_loss: 0.7263\n"
     ]
    },
    {
     "data": {
      "image/png": "[encoded data removed]",
      "text/plain": [
       "<Figure size 640x480 with 1 Axes>"
      ]
     },
     "metadata": {},
     "output_type": "display_data"
    },
    {
     "data": {
      "image/png": "[encoded data removed]",
      "text/plain": [
       "<Figure size 640x480 with 1 Axes>"
      ]
     },
     "metadata": {},
     "output_type": "display_data"
    }
   ],
   "source": [
    "import matplotlib.pyplot as plt\n",
    "from keras.models import Sequential\n",
    "from keras.layers import Dense\n",
    "\n",
    "# Sample dataset\n",
    "import numpy as np\n",
    "X_train = np.random.rand(100, 4)  # 100 samples, 4 features\n",
    "y_train = np.random.randint(0, 2, 100)  # Binary target (0 or 1)\n",
    "X_val = np.random.rand(20, 4)  # 20 validation samples\n",
    "y_val = np.random.randint(0, 2, 20)  # Binary target for validation\n",
    "\n",
    "# Create the model\n",
    "model = Sequential([\n",
    "    Dense(10, input_dim=4, activation='relu'),\n",
    "    Dense(1, activation='sigmoid')\n",
    "])\n",
    "\n",
    "# Compile the model\n",
    "model.compile(optimizer='adam', loss='binary_crossentropy', metrics=['accuracy'])\n",
    "\n",
    "# Train the model\n",
    "history = model.fit(X_train, y_train, validation_data=(X_val, y_val), epochs=10, batch_size=8)\n",
    "\n",
    "# Plot accuracy\n",
    "plt.plot(history.history['accuracy'], label='Train Accuracy')\n",
    "plt.plot(history.history['val_accuracy'], label='Validation Accuracy')\n",
    "plt.xlabel('Epochs')\n",
    "plt.ylabel('Accuracy')\n",
    "plt.legend()\n",
    "plt.show()\n",
    "\n",
    "# Plot loss\n",
    "plt.plot(history.history['loss'], label='Train Loss')\n",
    "plt.plot(history.history['val_loss'], label='Validation Loss')\n",
    "plt.xlabel('Epochs')\n",
    "plt.ylabel('Loss')\n",
    "plt.legend()\n",
    "plt.show()\n"
   ]
  },
  {
   "cell_type": "markdown",
   "id": "49ace2d4-5355-4756-b886-ab748fbb1501",
   "metadata": {},
   "source": [
    "9. How can you use gradient clipping in Keras to control the gradient size and prevent exploding gradients?\n",
    "\n",
    "Specify the clipvalue or clipnorm parameter in the optimizer:"
   ]
  },
  {
   "cell_type": "code",
   "execution_count": 9,
   "id": "53d00f5b-a2d5-4615-8d34-a10521ad55a7",
   "metadata": {},
   "outputs": [],
   "source": [
    "from keras.optimizers import Adam\n",
    "\n",
    "optimizer = Adam(clipvalue=1.0)  # Clips gradients to a maximum value of 1.0\n",
    "model.compile(optimizer=optimizer, loss='binary_crossentropy', metrics=['accuracy'])\n"
   ]
  },
  {
   "cell_type": "markdown",
   "id": "c5648b7f-5b83-49a1-9255-f6d7edadf666",
   "metadata": {},
   "source": [
    "10. How can you create a custom loss function in Keras?\n",
    "\n",
    "Define the loss function as a Python function:"
   ]
  },
  {
   "cell_type": "code",
   "execution_count": 10,
   "id": "b69e524c-f86b-4081-86a1-4c159ce4bb97",
   "metadata": {},
   "outputs": [],
   "source": [
    "import tensorflow as tf\n",
    "\n",
    "def custom_loss(y_true, y_pred):\n",
    "    return tf.reduce_mean(tf.square(y_true - y_pred))  # Mean squared error\n",
    "\n",
    "model.compile(optimizer='adam', loss=custom_loss, metrics=['accuracy'])\n"
   ]
  },
  {
   "cell_type": "markdown",
   "id": "0330e353-8641-41e9-a9cf-95b7ccb64519",
   "metadata": {},
   "source": [
    "11. How can you visualize the structure of a neural network model in Keras?\n",
    "\n",
    "Use plot_model from keras.utils:"
   ]
  },
  {
   "cell_type": "code",
   "execution_count": 11,
   "id": "5f2cb1da-a15d-4b04-8cd9-6691c2bb095f",
   "metadata": {},
   "outputs": [
    {
     "name": "stdout",
     "output_type": "stream",
     "text": [
      "You must install pydot (`pip install pydot`) for `plot_model` to work.\n"
     ]
    }
   ],
   "source": [
    "from keras.utils import plot_model\n",
    "\n",
    "plot_model(model, to_file='model.png', show_shapes=True, show_layer_names=True)\n"
   ]
  },
  {
   "cell_type": "code",
   "execution_count": null,
   "id": "2036cf1f-8857-4658-893c-9be9bd41cbf0",
   "metadata": {},
   "outputs": [],
   "source": []
  }
 ],
 "metadata": {
  "kernelspec": {
   "display_name": "Python 3 (ipykernel)",
   "language": "python",
   "name": "python3"
  },
  "language_info": {
   "codemirror_mode": {
    "name": "ipython",
    "version": 3
   },
   "file_extension": ".py",
   "mimetype": "text/x-python",
   "name": "python",
   "nbconvert_exporter": "python",
   "pygments_lexer": "ipython3",
   "version": "3.10.0"
  }
 },
 "nbformat": 4,
 "nbformat_minor": 5
}
